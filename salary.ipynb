{
 "cells": [
  {
   "attachments": {},
   "cell_type": "markdown",
   "id": "603e24ea-43e9-4397-ba59-2e752f418538",
   "metadata": {},
   "source": [
    "# Salary Prediction and analysis"
   ]
  },
  {
   "attachments": {},
   "cell_type": "markdown",
   "id": "e3cd7181-29f3-4976-a1b1-619a20f1bad9",
   "metadata": {
    "jp-MarkdownHeadingCollapsed": true
   },
   "source": [
    "## Importing Necessary Libraries"
   ]
  },
  {
   "cell_type": "code",
   "execution_count": 71,
   "id": "446e42d3-f214-4406-b3ca-7acf4fbeabf4",
   "metadata": {},
   "outputs": [],
   "source": [
    "import re\n",
    "import numpy as np\n",
    "import pandas as pd\n",
    "import matplotlib.pyplot as plt\n",
    "from sklearn.preprocessing import OrdinalEncoder, OneHotEncoder, StandardScaler, MinMaxScaler\n",
    "from sklearn.pipeline import Pipeline \n",
    "from sklearn.compose import ColumnTransformer\n",
    "from sklearn.model_selection import train_test_split, GridSearchCV\n",
    "from sklearn.metrics import r2_score, mean_absolute_error, mean_squared_error\n",
    "from sklearn.linear_model import LinearRegression\n",
    "from sklearn.tree import DecisionTreeRegressor\n",
    "from sklearn.ensemble import RandomForestRegressor\n",
    "%matplotlib inline"
   ]
  },
  {
   "attachments": {},
   "cell_type": "markdown",
   "id": "20756425-89a1-40cc-8c93-f3006e41481f",
   "metadata": {
    "jp-MarkdownHeadingCollapsed": true
   },
   "source": [
    "## Getting the data"
   ]
  },
  {
   "cell_type": "code",
   "execution_count": 2,
   "id": "52109ba1-c925-4ffc-856e-613d800083a0",
   "metadata": {},
   "outputs": [],
   "source": [
    "df = pd.read_csv('data/ds_salaries.csv')"
   ]
  },
  {
   "attachments": {},
   "cell_type": "markdown",
   "id": "8745bbdf-b07d-4063-a09a-02f967bf08eb",
   "metadata": {
    "jp-MarkdownHeadingCollapsed": true
   },
   "source": [
    "## Inspecting the data"
   ]
  },
  {
   "cell_type": "code",
   "execution_count": 3,
   "id": "4135f8ad-ade6-444f-8b9d-f82dedcf2dfa",
   "metadata": {},
   "outputs": [
    {
     "data": {
      "text/plain": [
       "work_year             0\n",
       "experience_level      0\n",
       "employment_type       0\n",
       "job_title             0\n",
       "salary                0\n",
       "salary_currency       0\n",
       "salary_in_usd         0\n",
       "employee_residence    0\n",
       "remote_ratio          0\n",
       "company_location      0\n",
       "company_size          0\n",
       "dtype: int64"
      ]
     },
     "execution_count": 3,
     "metadata": {},
     "output_type": "execute_result"
    }
   ],
   "source": [
    "# Seeems like we have no null data. That looks good\n",
    "df.isna().sum()"
   ]
  },
  {
   "cell_type": "code",
   "execution_count": 4,
   "id": "78419012-cd8e-4149-8b13-480dbb529fad",
   "metadata": {},
   "outputs": [
    {
     "name": "stdout",
     "output_type": "stream",
     "text": [
      "<class 'pandas.core.frame.DataFrame'>\n",
      "RangeIndex: 3755 entries, 0 to 3754\n",
      "Data columns (total 11 columns):\n",
      " #   Column              Non-Null Count  Dtype \n",
      "---  ------              --------------  ----- \n",
      " 0   work_year           3755 non-null   int64 \n",
      " 1   experience_level    3755 non-null   object\n",
      " 2   employment_type     3755 non-null   object\n",
      " 3   job_title           3755 non-null   object\n",
      " 4   salary              3755 non-null   int64 \n",
      " 5   salary_currency     3755 non-null   object\n",
      " 6   salary_in_usd       3755 non-null   int64 \n",
      " 7   employee_residence  3755 non-null   object\n",
      " 8   remote_ratio        3755 non-null   int64 \n",
      " 9   company_location    3755 non-null   object\n",
      " 10  company_size        3755 non-null   object\n",
      "dtypes: int64(4), object(7)\n",
      "memory usage: 322.8+ KB\n"
     ]
    }
   ],
   "source": [
    "df.info()"
   ]
  },
  {
   "cell_type": "code",
   "execution_count": 5,
   "id": "434b9dcf-263a-4ba0-b686-8f8d02e45ec8",
   "metadata": {},
   "outputs": [
    {
     "data": {
      "text/plain": [
       "array(['SE', 'MI', 'EN', 'EX'], dtype=object)"
      ]
     },
     "execution_count": 5,
     "metadata": {},
     "output_type": "execute_result"
    }
   ],
   "source": [
    "df.experience_level.unique()"
   ]
  },
  {
   "cell_type": "code",
   "execution_count": 6,
   "id": "f0f48ad5-e741-4b41-a2b6-65c23869c5e8",
   "metadata": {},
   "outputs": [
    {
     "data": {
      "text/plain": [
       "array([100,   0,  50])"
      ]
     },
     "execution_count": 6,
     "metadata": {},
     "output_type": "execute_result"
    }
   ],
   "source": [
    "df.remote_ratio.unique()"
   ]
  },
  {
   "cell_type": "code",
   "execution_count": 7,
   "id": "3fef30ce-1e84-45f6-b3bb-f6924f282e5c",
   "metadata": {},
   "outputs": [
    {
     "data": {
      "text/plain": [
       "array(['ES', 'US', 'CA', 'DE', 'GB', 'NG', 'IN', 'HK', 'NL', 'CH', 'CF',\n",
       "       'FR', 'FI', 'UA', 'IE', 'IL', 'GH', 'CO', 'SG', 'AU', 'SE', 'SI',\n",
       "       'MX', 'BR', 'PT', 'RU', 'TH', 'HR', 'VN', 'EE', 'AM', 'BA', 'KE',\n",
       "       'GR', 'MK', 'LV', 'RO', 'PK', 'IT', 'MA', 'PL', 'AL', 'AR', 'LT',\n",
       "       'AS', 'CR', 'IR', 'BS', 'HU', 'AT', 'SK', 'CZ', 'TR', 'PR', 'DK',\n",
       "       'BO', 'PH', 'BE', 'ID', 'EG', 'AE', 'LU', 'MY', 'HN', 'JP', 'DZ',\n",
       "       'IQ', 'CN', 'NZ', 'CL', 'MD', 'MT'], dtype=object)"
      ]
     },
     "execution_count": 7,
     "metadata": {},
     "output_type": "execute_result"
    }
   ],
   "source": [
    "df.company_location.unique()"
   ]
  },
  {
   "cell_type": "code",
   "execution_count": 8,
   "id": "f3d3b88d-27f1-4668-9e34-4f6ec591d7ff",
   "metadata": {},
   "outputs": [
    {
     "data": {
      "text/plain": [
       "array(['Principal Data Scientist', 'ML Engineer', 'Data Scientist',\n",
       "       'Applied Scientist', 'Data Analyst', 'Data Modeler',\n",
       "       'Research Engineer', 'Analytics Engineer',\n",
       "       'Business Intelligence Engineer', 'Machine Learning Engineer',\n",
       "       'Data Strategist', 'Data Engineer', 'Computer Vision Engineer',\n",
       "       'Data Quality Analyst', 'Compliance Data Analyst',\n",
       "       'Data Architect', 'Applied Machine Learning Engineer',\n",
       "       'AI Developer', 'Research Scientist', 'Data Analytics Manager',\n",
       "       'Business Data Analyst', 'Applied Data Scientist',\n",
       "       'Staff Data Analyst', 'ETL Engineer', 'Data DevOps Engineer',\n",
       "       'Head of Data', 'Data Science Manager', 'Data Manager',\n",
       "       'Machine Learning Researcher', 'Big Data Engineer',\n",
       "       'Data Specialist', 'Lead Data Analyst', 'BI Data Engineer',\n",
       "       'Director of Data Science', 'Machine Learning Scientist',\n",
       "       'MLOps Engineer', 'AI Scientist', 'Autonomous Vehicle Technician',\n",
       "       'Applied Machine Learning Scientist', 'Lead Data Scientist',\n",
       "       'Cloud Database Engineer', 'Financial Data Analyst',\n",
       "       'Data Infrastructure Engineer', 'Software Data Engineer',\n",
       "       'AI Programmer', 'Data Operations Engineer', 'BI Developer',\n",
       "       'Data Science Lead', 'Deep Learning Researcher', 'BI Analyst',\n",
       "       'Data Science Consultant', 'Data Analytics Specialist',\n",
       "       'Machine Learning Infrastructure Engineer', 'BI Data Analyst',\n",
       "       'Head of Data Science', 'Insight Analyst',\n",
       "       'Deep Learning Engineer', 'Machine Learning Software Engineer',\n",
       "       'Big Data Architect', 'Product Data Analyst',\n",
       "       'Computer Vision Software Engineer', 'Azure Data Engineer',\n",
       "       'Marketing Data Engineer', 'Data Analytics Lead', 'Data Lead',\n",
       "       'Data Science Engineer', 'Machine Learning Research Engineer',\n",
       "       'NLP Engineer', 'Manager Data Management',\n",
       "       'Machine Learning Developer', '3D Computer Vision Researcher',\n",
       "       'Principal Machine Learning Engineer', 'Data Analytics Engineer',\n",
       "       'Data Analytics Consultant', 'Data Management Specialist',\n",
       "       'Data Science Tech Lead', 'Data Scientist Lead',\n",
       "       'Cloud Data Engineer', 'Data Operations Analyst',\n",
       "       'Marketing Data Analyst', 'Power BI Developer',\n",
       "       'Product Data Scientist', 'Principal Data Architect',\n",
       "       'Machine Learning Manager', 'Lead Machine Learning Engineer',\n",
       "       'ETL Developer', 'Cloud Data Architect', 'Lead Data Engineer',\n",
       "       'Head of Machine Learning', 'Principal Data Analyst',\n",
       "       'Principal Data Engineer', 'Staff Data Scientist',\n",
       "       'Finance Data Analyst'], dtype=object)"
      ]
     },
     "execution_count": 8,
     "metadata": {},
     "output_type": "execute_result"
    }
   ],
   "source": [
    "df.job_title.unique()"
   ]
  },
  {
   "cell_type": "code",
   "execution_count": 9,
   "id": "ab6d2a4c-506b-49d3-adc2-b671e045a40c",
   "metadata": {},
   "outputs": [
    {
     "data": {
      "text/html": [
       "<div>\n",
       "<style scoped>\n",
       "    .dataframe tbody tr th:only-of-type {\n",
       "        vertical-align: middle;\n",
       "    }\n",
       "\n",
       "    .dataframe tbody tr th {\n",
       "        vertical-align: top;\n",
       "    }\n",
       "\n",
       "    .dataframe thead th {\n",
       "        text-align: right;\n",
       "    }\n",
       "</style>\n",
       "<table border=\"1\" class=\"dataframe\">\n",
       "  <thead>\n",
       "    <tr style=\"text-align: right;\">\n",
       "      <th></th>\n",
       "      <th>work_year</th>\n",
       "      <th>experience_level</th>\n",
       "      <th>employment_type</th>\n",
       "      <th>job_title</th>\n",
       "      <th>salary</th>\n",
       "      <th>salary_currency</th>\n",
       "      <th>salary_in_usd</th>\n",
       "      <th>employee_residence</th>\n",
       "      <th>remote_ratio</th>\n",
       "      <th>company_location</th>\n",
       "      <th>company_size</th>\n",
       "    </tr>\n",
       "  </thead>\n",
       "  <tbody>\n",
       "    <tr>\n",
       "      <th>2398</th>\n",
       "      <td>2022</td>\n",
       "      <td>SE</td>\n",
       "      <td>FT</td>\n",
       "      <td>Data Scientist</td>\n",
       "      <td>185900</td>\n",
       "      <td>USD</td>\n",
       "      <td>185900</td>\n",
       "      <td>US</td>\n",
       "      <td>0</td>\n",
       "      <td>US</td>\n",
       "      <td>M</td>\n",
       "    </tr>\n",
       "    <tr>\n",
       "      <th>804</th>\n",
       "      <td>2023</td>\n",
       "      <td>MI</td>\n",
       "      <td>FT</td>\n",
       "      <td>Data Analyst</td>\n",
       "      <td>100000</td>\n",
       "      <td>USD</td>\n",
       "      <td>100000</td>\n",
       "      <td>CA</td>\n",
       "      <td>100</td>\n",
       "      <td>CA</td>\n",
       "      <td>M</td>\n",
       "    </tr>\n",
       "    <tr>\n",
       "      <th>488</th>\n",
       "      <td>2023</td>\n",
       "      <td>SE</td>\n",
       "      <td>FT</td>\n",
       "      <td>Data Scientist</td>\n",
       "      <td>317070</td>\n",
       "      <td>USD</td>\n",
       "      <td>317070</td>\n",
       "      <td>US</td>\n",
       "      <td>0</td>\n",
       "      <td>US</td>\n",
       "      <td>M</td>\n",
       "    </tr>\n",
       "    <tr>\n",
       "      <th>153</th>\n",
       "      <td>2023</td>\n",
       "      <td>MI</td>\n",
       "      <td>FT</td>\n",
       "      <td>Data Engineer</td>\n",
       "      <td>100000</td>\n",
       "      <td>USD</td>\n",
       "      <td>100000</td>\n",
       "      <td>US</td>\n",
       "      <td>100</td>\n",
       "      <td>US</td>\n",
       "      <td>M</td>\n",
       "    </tr>\n",
       "    <tr>\n",
       "      <th>2429</th>\n",
       "      <td>2022</td>\n",
       "      <td>SE</td>\n",
       "      <td>FT</td>\n",
       "      <td>Data Engineer</td>\n",
       "      <td>140000</td>\n",
       "      <td>USD</td>\n",
       "      <td>140000</td>\n",
       "      <td>US</td>\n",
       "      <td>100</td>\n",
       "      <td>US</td>\n",
       "      <td>M</td>\n",
       "    </tr>\n",
       "    <tr>\n",
       "      <th>1389</th>\n",
       "      <td>2023</td>\n",
       "      <td>SE</td>\n",
       "      <td>FT</td>\n",
       "      <td>Data Engineer</td>\n",
       "      <td>182750</td>\n",
       "      <td>USD</td>\n",
       "      <td>182750</td>\n",
       "      <td>US</td>\n",
       "      <td>100</td>\n",
       "      <td>US</td>\n",
       "      <td>M</td>\n",
       "    </tr>\n",
       "    <tr>\n",
       "      <th>169</th>\n",
       "      <td>2023</td>\n",
       "      <td>SE</td>\n",
       "      <td>FT</td>\n",
       "      <td>Analytics Engineer</td>\n",
       "      <td>150000</td>\n",
       "      <td>USD</td>\n",
       "      <td>150000</td>\n",
       "      <td>US</td>\n",
       "      <td>100</td>\n",
       "      <td>US</td>\n",
       "      <td>M</td>\n",
       "    </tr>\n",
       "    <tr>\n",
       "      <th>2640</th>\n",
       "      <td>2022</td>\n",
       "      <td>SE</td>\n",
       "      <td>FT</td>\n",
       "      <td>Data Architect</td>\n",
       "      <td>225000</td>\n",
       "      <td>USD</td>\n",
       "      <td>225000</td>\n",
       "      <td>US</td>\n",
       "      <td>100</td>\n",
       "      <td>US</td>\n",
       "      <td>M</td>\n",
       "    </tr>\n",
       "    <tr>\n",
       "      <th>3438</th>\n",
       "      <td>2022</td>\n",
       "      <td>EN</td>\n",
       "      <td>FT</td>\n",
       "      <td>Data Scientist</td>\n",
       "      <td>66500</td>\n",
       "      <td>CAD</td>\n",
       "      <td>51081</td>\n",
       "      <td>CA</td>\n",
       "      <td>100</td>\n",
       "      <td>CA</td>\n",
       "      <td>L</td>\n",
       "    </tr>\n",
       "    <tr>\n",
       "      <th>2630</th>\n",
       "      <td>2022</td>\n",
       "      <td>SE</td>\n",
       "      <td>FT</td>\n",
       "      <td>Data Scientist</td>\n",
       "      <td>225000</td>\n",
       "      <td>USD</td>\n",
       "      <td>225000</td>\n",
       "      <td>US</td>\n",
       "      <td>0</td>\n",
       "      <td>US</td>\n",
       "      <td>M</td>\n",
       "    </tr>\n",
       "  </tbody>\n",
       "</table>\n",
       "</div>"
      ],
      "text/plain": [
       "      work_year experience_level employment_type           job_title  salary  \\\n",
       "2398       2022               SE              FT      Data Scientist  185900   \n",
       "804        2023               MI              FT        Data Analyst  100000   \n",
       "488        2023               SE              FT      Data Scientist  317070   \n",
       "153        2023               MI              FT       Data Engineer  100000   \n",
       "2429       2022               SE              FT       Data Engineer  140000   \n",
       "1389       2023               SE              FT       Data Engineer  182750   \n",
       "169        2023               SE              FT  Analytics Engineer  150000   \n",
       "2640       2022               SE              FT      Data Architect  225000   \n",
       "3438       2022               EN              FT      Data Scientist   66500   \n",
       "2630       2022               SE              FT      Data Scientist  225000   \n",
       "\n",
       "     salary_currency  salary_in_usd employee_residence  remote_ratio  \\\n",
       "2398             USD         185900                 US             0   \n",
       "804              USD         100000                 CA           100   \n",
       "488              USD         317070                 US             0   \n",
       "153              USD         100000                 US           100   \n",
       "2429             USD         140000                 US           100   \n",
       "1389             USD         182750                 US           100   \n",
       "169              USD         150000                 US           100   \n",
       "2640             USD         225000                 US           100   \n",
       "3438             CAD          51081                 CA           100   \n",
       "2630             USD         225000                 US             0   \n",
       "\n",
       "     company_location company_size  \n",
       "2398               US            M  \n",
       "804                CA            M  \n",
       "488                US            M  \n",
       "153                US            M  \n",
       "2429               US            M  \n",
       "1389               US            M  \n",
       "169                US            M  \n",
       "2640               US            M  \n",
       "3438               CA            L  \n",
       "2630               US            M  "
      ]
     },
     "execution_count": 9,
     "metadata": {},
     "output_type": "execute_result"
    }
   ],
   "source": [
    "df.sample(10)"
   ]
  },
  {
   "attachments": {},
   "cell_type": "markdown",
   "id": "3502c1d4-744e-403d-bb7c-48cba33dcfe4",
   "metadata": {
    "jp-MarkdownHeadingCollapsed": true
   },
   "source": [
    "## Exploring the work_year column"
   ]
  },
  {
   "cell_type": "code",
   "execution_count": 10,
   "id": "cc3a5728-a0dd-42eb-a5e4-93dd9550e0f3",
   "metadata": {},
   "outputs": [
    {
     "data": {
      "text/plain": [
       "work_year\n",
       "2023    1785\n",
       "2022    1664\n",
       "2021     230\n",
       "2020      76\n",
       "Name: count, dtype: int64"
      ]
     },
     "execution_count": 10,
     "metadata": {},
     "output_type": "execute_result"
    }
   ],
   "source": [
    "df.work_year.value_counts()"
   ]
  },
  {
   "cell_type": "code",
   "execution_count": 11,
   "id": "611134d5-8fb7-4ee2-9d6a-46c893cabf1c",
   "metadata": {},
   "outputs": [
    {
     "data": {
      "text/plain": [
       "<Axes: xlabel='work_year'>"
      ]
     },
     "execution_count": 11,
     "metadata": {},
     "output_type": "execute_result"
    },
    {
     "data": {
      "image/png": "[encoded data removed]",
      "text/plain": [
       "<Figure size 640x480 with 1 Axes>"
      ]
     },
     "metadata": {},
     "output_type": "display_data"
    }
   ],
   "source": [
    "df.work_year.value_counts().plot(kind = 'bar')"
   ]
  },
  {
   "attachments": {},
   "cell_type": "markdown",
   "id": "cc25d5e0-fbcc-4738-bfa4-0c63ac837f2a",
   "metadata": {
    "jp-MarkdownHeadingCollapsed": true
   },
   "source": [
    "## Exploring the experience_level column"
   ]
  },
  {
   "cell_type": "code",
   "execution_count": 12,
   "id": "355ac201-4549-4c79-bfaf-b7c962da9407",
   "metadata": {},
   "outputs": [
    {
     "data": {
      "text/plain": [
       "experience_level\n",
       "SE    2516\n",
       "MI     805\n",
       "EN     320\n",
       "EX     114\n",
       "Name: count, dtype: int64"
      ]
     },
     "execution_count": 12,
     "metadata": {},
     "output_type": "execute_result"
    }
   ],
   "source": [
    "df.experience_level.value_counts()"
   ]
  },
  {
   "attachments": {},
   "cell_type": "markdown",
   "id": "16fa123e-899b-40bf-a2ad-151086d4442c",
   "metadata": {
    "jp-MarkdownHeadingCollapsed": true
   },
   "source": [
    "## Cleaning the job title column"
   ]
  },
  {
   "cell_type": "code",
   "execution_count": 13,
   "id": "201f9240-05a0-4429-9031-c37797d187e2",
   "metadata": {},
   "outputs": [
    {
     "data": {
      "text/plain": [
       "job_title\n",
       "Data Engineer                1300\n",
       "Data Scientist               1139\n",
       "Data Analyst                  835\n",
       "Machine Learning Engineer     481\n",
       "Name: count, dtype: int64"
      ]
     },
     "execution_count": 13,
     "metadata": {},
     "output_type": "execute_result"
    }
   ],
   "source": [
    "def attribute_job_title(row):\n",
    "    row  = row.lower()\n",
    "    eng = 'data engineer'\n",
    "    eng2 = 'research engineer'\n",
    "    sci = 'data scien'\n",
    "    sci2 = 'research scientist'\n",
    "    sci3 = 'etl'\n",
    "    ana = 'data analyst'\n",
    "    ana2 = 'bi developer'\n",
    "    ana3 = 'analytics'\n",
    "    ai = 'artificial intelligence'\n",
    "    ai2 = 'ai'\n",
    "    ai3 = 'ml'\n",
    "    ai4 = 'machine learning'\n",
    "    ai5 = 'computer vision'\n",
    "    ai6 = 'deep learning'\n",
    "    ai7 = 'nlp'\n",
    "    if eng in row or eng2 in row or 'architect' in row or 'management' in row:\n",
    "        return 'Data Engineer'\n",
    "    elif ana in row or ana2 in row or ana3 in row or 'analyst' in row:\n",
    "        return 'Data Analyst'\n",
    "    elif ai in row or ai2 in row or ai3 in row or ai4 in row or ai5 in row or ai6 in row or ai7 in row or 'autonomous' in row:\n",
    "        return 'Machine Learning Engineer'\n",
    "    elif sci in row or sci2 in row or sci3 in row or 'scientist' in row:\n",
    "        return 'Data Scientist'\n",
    "    elif 'data' in row  or 'engineer' in row:\n",
    "        return 'Data Engineer'\n",
    "    return row \n",
    "\n",
    "df['job_title'].apply(attribute_job_title).value_counts()"
   ]
  },
  {
   "cell_type": "code",
   "execution_count": 14,
   "id": "b9429216-22e1-447f-bf6e-7135f6d62d73",
   "metadata": {},
   "outputs": [],
   "source": [
    "df['job_title'] = df['job_title'].apply(attribute_job_title)"
   ]
  },
  {
   "cell_type": "code",
   "execution_count": 15,
   "id": "bd9e1d91-1a91-4ffe-8aba-f297494d30e8",
   "metadata": {},
   "outputs": [
    {
     "data": {
      "text/html": [
       "<div>\n",
       "<style scoped>\n",
       "    .dataframe tbody tr th:only-of-type {\n",
       "        vertical-align: middle;\n",
       "    }\n",
       "\n",
       "    .dataframe tbody tr th {\n",
       "        vertical-align: top;\n",
       "    }\n",
       "\n",
       "    .dataframe thead th {\n",
       "        text-align: right;\n",
       "    }\n",
       "</style>\n",
       "<table border=\"1\" class=\"dataframe\">\n",
       "  <thead>\n",
       "    <tr style=\"text-align: right;\">\n",
       "      <th></th>\n",
       "      <th>work_year</th>\n",
       "      <th>experience_level</th>\n",
       "      <th>employment_type</th>\n",
       "      <th>job_title</th>\n",
       "      <th>salary</th>\n",
       "      <th>salary_currency</th>\n",
       "      <th>salary_in_usd</th>\n",
       "      <th>employee_residence</th>\n",
       "      <th>remote_ratio</th>\n",
       "      <th>company_location</th>\n",
       "      <th>company_size</th>\n",
       "    </tr>\n",
       "  </thead>\n",
       "  <tbody>\n",
       "    <tr>\n",
       "      <th>1552</th>\n",
       "      <td>2023</td>\n",
       "      <td>SE</td>\n",
       "      <td>FT</td>\n",
       "      <td>Data Scientist</td>\n",
       "      <td>72000</td>\n",
       "      <td>EUR</td>\n",
       "      <td>77262</td>\n",
       "      <td>LV</td>\n",
       "      <td>0</td>\n",
       "      <td>LV</td>\n",
       "      <td>M</td>\n",
       "    </tr>\n",
       "    <tr>\n",
       "      <th>3428</th>\n",
       "      <td>2022</td>\n",
       "      <td>MI</td>\n",
       "      <td>FT</td>\n",
       "      <td>Data Scientist</td>\n",
       "      <td>157000</td>\n",
       "      <td>USD</td>\n",
       "      <td>157000</td>\n",
       "      <td>US</td>\n",
       "      <td>100</td>\n",
       "      <td>US</td>\n",
       "      <td>L</td>\n",
       "    </tr>\n",
       "    <tr>\n",
       "      <th>2637</th>\n",
       "      <td>2022</td>\n",
       "      <td>MI</td>\n",
       "      <td>FT</td>\n",
       "      <td>Machine Learning Engineer</td>\n",
       "      <td>98200</td>\n",
       "      <td>USD</td>\n",
       "      <td>98200</td>\n",
       "      <td>US</td>\n",
       "      <td>100</td>\n",
       "      <td>US</td>\n",
       "      <td>L</td>\n",
       "    </tr>\n",
       "    <tr>\n",
       "      <th>1516</th>\n",
       "      <td>2023</td>\n",
       "      <td>SE</td>\n",
       "      <td>FT</td>\n",
       "      <td>Data Scientist</td>\n",
       "      <td>104000</td>\n",
       "      <td>USD</td>\n",
       "      <td>104000</td>\n",
       "      <td>US</td>\n",
       "      <td>100</td>\n",
       "      <td>US</td>\n",
       "      <td>M</td>\n",
       "    </tr>\n",
       "    <tr>\n",
       "      <th>2916</th>\n",
       "      <td>2022</td>\n",
       "      <td>EX</td>\n",
       "      <td>FT</td>\n",
       "      <td>Machine Learning Engineer</td>\n",
       "      <td>200000</td>\n",
       "      <td>USD</td>\n",
       "      <td>200000</td>\n",
       "      <td>US</td>\n",
       "      <td>100</td>\n",
       "      <td>US</td>\n",
       "      <td>S</td>\n",
       "    </tr>\n",
       "    <tr>\n",
       "      <th>1487</th>\n",
       "      <td>2023</td>\n",
       "      <td>SE</td>\n",
       "      <td>FT</td>\n",
       "      <td>Data Scientist</td>\n",
       "      <td>183500</td>\n",
       "      <td>USD</td>\n",
       "      <td>183500</td>\n",
       "      <td>US</td>\n",
       "      <td>100</td>\n",
       "      <td>US</td>\n",
       "      <td>M</td>\n",
       "    </tr>\n",
       "    <tr>\n",
       "      <th>1873</th>\n",
       "      <td>2022</td>\n",
       "      <td>EN</td>\n",
       "      <td>FT</td>\n",
       "      <td>Data Scientist</td>\n",
       "      <td>23000</td>\n",
       "      <td>EUR</td>\n",
       "      <td>24165</td>\n",
       "      <td>IT</td>\n",
       "      <td>50</td>\n",
       "      <td>IT</td>\n",
       "      <td>M</td>\n",
       "    </tr>\n",
       "    <tr>\n",
       "      <th>3144</th>\n",
       "      <td>2022</td>\n",
       "      <td>MI</td>\n",
       "      <td>FT</td>\n",
       "      <td>Data Engineer</td>\n",
       "      <td>75000</td>\n",
       "      <td>GBP</td>\n",
       "      <td>92350</td>\n",
       "      <td>GB</td>\n",
       "      <td>100</td>\n",
       "      <td>GB</td>\n",
       "      <td>M</td>\n",
       "    </tr>\n",
       "    <tr>\n",
       "      <th>801</th>\n",
       "      <td>2023</td>\n",
       "      <td>SE</td>\n",
       "      <td>FT</td>\n",
       "      <td>Data Analyst</td>\n",
       "      <td>250000</td>\n",
       "      <td>USD</td>\n",
       "      <td>250000</td>\n",
       "      <td>US</td>\n",
       "      <td>100</td>\n",
       "      <td>US</td>\n",
       "      <td>M</td>\n",
       "    </tr>\n",
       "    <tr>\n",
       "      <th>9</th>\n",
       "      <td>2023</td>\n",
       "      <td>SE</td>\n",
       "      <td>FT</td>\n",
       "      <td>Data Scientist</td>\n",
       "      <td>147100</td>\n",
       "      <td>USD</td>\n",
       "      <td>147100</td>\n",
       "      <td>US</td>\n",
       "      <td>0</td>\n",
       "      <td>US</td>\n",
       "      <td>M</td>\n",
       "    </tr>\n",
       "  </tbody>\n",
       "</table>\n",
       "</div>"
      ],
      "text/plain": [
       "      work_year experience_level employment_type                  job_title  \\\n",
       "1552       2023               SE              FT             Data Scientist   \n",
       "3428       2022               MI              FT             Data Scientist   \n",
       "2637       2022               MI              FT  Machine Learning Engineer   \n",
       "1516       2023               SE              FT             Data Scientist   \n",
       "2916       2022               EX              FT  Machine Learning Engineer   \n",
       "1487       2023               SE              FT             Data Scientist   \n",
       "1873       2022               EN              FT             Data Scientist   \n",
       "3144       2022               MI              FT              Data Engineer   \n",
       "801        2023               SE              FT               Data Analyst   \n",
       "9          2023               SE              FT             Data Scientist   \n",
       "\n",
       "      salary salary_currency  salary_in_usd employee_residence  remote_ratio  \\\n",
       "1552   72000             EUR          77262                 LV             0   \n",
       "3428  157000             USD         157000                 US           100   \n",
       "2637   98200             USD          98200                 US           100   \n",
       "1516  104000             USD         104000                 US           100   \n",
       "2916  200000             USD         200000                 US           100   \n",
       "1487  183500             USD         183500                 US           100   \n",
       "1873   23000             EUR          24165                 IT            50   \n",
       "3144   75000             GBP          92350                 GB           100   \n",
       "801   250000             USD         250000                 US           100   \n",
       "9     147100             USD         147100                 US             0   \n",
       "\n",
       "     company_location company_size  \n",
       "1552               LV            M  \n",
       "3428               US            L  \n",
       "2637               US            L  \n",
       "1516               US            M  \n",
       "2916               US            S  \n",
       "1487               US            M  \n",
       "1873               IT            M  \n",
       "3144               GB            M  \n",
       "801                US            M  \n",
       "9                  US            M  "
      ]
     },
     "execution_count": 15,
     "metadata": {},
     "output_type": "execute_result"
    }
   ],
   "source": [
    "df.sample(10)"
   ]
  },
  {
   "attachments": {},
   "cell_type": "markdown",
   "id": "e156913b-fb28-4a0e-ba46-c6f42c3fa4fb",
   "metadata": {
    "jp-MarkdownHeadingCollapsed": true
   },
   "source": [
    "## Dropping the salary and salary_currency column"
   ]
  },
  {
   "cell_type": "code",
   "execution_count": 16,
   "id": "1d079d9d-f888-4cf9-9083-db7d1279e330",
   "metadata": {},
   "outputs": [],
   "source": [
    "df.drop(['salary', 'salary_currency'], axis  = 1, inplace = True)"
   ]
  },
  {
   "cell_type": "code",
   "execution_count": 17,
   "id": "29b19599-7236-4c9c-87bc-2b9820564f44",
   "metadata": {},
   "outputs": [
    {
     "data": {
      "text/html": [
       "<div>\n",
       "<style scoped>\n",
       "    .dataframe tbody tr th:only-of-type {\n",
       "        vertical-align: middle;\n",
       "    }\n",
       "\n",
       "    .dataframe tbody tr th {\n",
       "        vertical-align: top;\n",
       "    }\n",
       "\n",
       "    .dataframe thead th {\n",
       "        text-align: right;\n",
       "    }\n",
       "</style>\n",
       "<table border=\"1\" class=\"dataframe\">\n",
       "  <thead>\n",
       "    <tr style=\"text-align: right;\">\n",
       "      <th></th>\n",
       "      <th>work_year</th>\n",
       "      <th>experience_level</th>\n",
       "      <th>employment_type</th>\n",
       "      <th>job_title</th>\n",
       "      <th>salary_in_usd</th>\n",
       "      <th>employee_residence</th>\n",
       "      <th>remote_ratio</th>\n",
       "      <th>company_location</th>\n",
       "      <th>company_size</th>\n",
       "    </tr>\n",
       "  </thead>\n",
       "  <tbody>\n",
       "    <tr>\n",
       "      <th>2591</th>\n",
       "      <td>2022</td>\n",
       "      <td>SE</td>\n",
       "      <td>FT</td>\n",
       "      <td>Data Scientist</td>\n",
       "      <td>38000</td>\n",
       "      <td>US</td>\n",
       "      <td>100</td>\n",
       "      <td>US</td>\n",
       "      <td>M</td>\n",
       "    </tr>\n",
       "    <tr>\n",
       "      <th>83</th>\n",
       "      <td>2022</td>\n",
       "      <td>EN</td>\n",
       "      <td>FT</td>\n",
       "      <td>Machine Learning Engineer</td>\n",
       "      <td>300000</td>\n",
       "      <td>IN</td>\n",
       "      <td>50</td>\n",
       "      <td>IN</td>\n",
       "      <td>L</td>\n",
       "    </tr>\n",
       "  </tbody>\n",
       "</table>\n",
       "</div>"
      ],
      "text/plain": [
       "      work_year experience_level employment_type                  job_title  \\\n",
       "2591       2022               SE              FT             Data Scientist   \n",
       "83         2022               EN              FT  Machine Learning Engineer   \n",
       "\n",
       "      salary_in_usd employee_residence  remote_ratio company_location  \\\n",
       "2591          38000                 US           100               US   \n",
       "83           300000                 IN            50               IN   \n",
       "\n",
       "     company_size  \n",
       "2591            M  \n",
       "83              L  "
      ]
     },
     "execution_count": 17,
     "metadata": {},
     "output_type": "execute_result"
    }
   ],
   "source": [
    "df.sample(2)"
   ]
  },
  {
   "attachments": {},
   "cell_type": "markdown",
   "id": "968d196e-ad98-48b7-b017-6278f5b4241d",
   "metadata": {
    "jp-MarkdownHeadingCollapsed": true
   },
   "source": [
    "## Cleaning the company location column"
   ]
  },
  {
   "cell_type": "code",
   "execution_count": 18,
   "id": "d35e2e09-f0f9-4848-bcf3-f518a7bce61f",
   "metadata": {},
   "outputs": [
    {
     "data": {
      "text/plain": [
       "<Axes: xlabel='company_location'>"
      ]
     },
     "execution_count": 18,
     "metadata": {},
     "output_type": "execute_result"
    },
    {
     "data": {
      "image/png": "[encoded data removed]",
      "text/plain": [
       "<Figure size 1000x400 with 1 Axes>"
      ]
     },
     "metadata": {},
     "output_type": "display_data"
    }
   ],
   "source": [
    "df.company_location.value_counts().plot(kind = 'bar', figsize = (10,4))"
   ]
  },
  {
   "cell_type": "code",
   "execution_count": 19,
   "id": "30ed7e40-09c4-4632-8b59-f896ebf85bac",
   "metadata": {},
   "outputs": [
    {
     "data": {
      "text/plain": [
       "company_location\n",
       "US    3040\n",
       "GB     172\n",
       "CA      87\n",
       "ES      77\n",
       "IN      58\n",
       "DE      56\n",
       "FR      34\n",
       "BR      15\n",
       "AU      14\n",
       "GR      14\n",
       "Name: count, dtype: int64"
      ]
     },
     "execution_count": 19,
     "metadata": {},
     "output_type": "execute_result"
    }
   ],
   "source": [
    "df.company_location.value_counts()[:10]"
   ]
  },
  {
   "cell_type": "code",
   "execution_count": 20,
   "id": "3a1cac63-50a5-413c-bee8-47a9f622a7eb",
   "metadata": {},
   "outputs": [
    {
     "data": {
      "text/plain": [
       "company_location\n",
       "US                 3040\n",
       "other countries     231\n",
       "GB                  172\n",
       "CA                   87\n",
       "ES                   77\n",
       "IN                   58\n",
       "DE                   56\n",
       "FR                   34\n",
       "Name: count, dtype: int64"
      ]
     },
     "execution_count": 20,
     "metadata": {},
     "output_type": "execute_result"
    }
   ],
   "source": [
    "def allocate_company_location(row):\n",
    "    sig_countries = ['US', 'GB', 'CA', 'ES', 'IN', 'DE', 'FR']\n",
    "    if row in sig_countries:\n",
    "        return row \n",
    "    return 'other countries'\n",
    "\n",
    "\n",
    "df['company_location'].apply(allocate_company_location).value_counts()"
   ]
  },
  {
   "cell_type": "code",
   "execution_count": 21,
   "id": "ab965bda-f26b-4803-b677-3149b015a061",
   "metadata": {},
   "outputs": [],
   "source": [
    "df['company_location'] = df['company_location'].apply(allocate_company_location)"
   ]
  },
  {
   "cell_type": "code",
   "execution_count": 22,
   "id": "592217d2-f1f6-41ef-be91-cd2b7c4019b1",
   "metadata": {},
   "outputs": [
    {
     "data": {
      "text/html": [
       "<div>\n",
       "<style scoped>\n",
       "    .dataframe tbody tr th:only-of-type {\n",
       "        vertical-align: middle;\n",
       "    }\n",
       "\n",
       "    .dataframe tbody tr th {\n",
       "        vertical-align: top;\n",
       "    }\n",
       "\n",
       "    .dataframe thead th {\n",
       "        text-align: right;\n",
       "    }\n",
       "</style>\n",
       "<table border=\"1\" class=\"dataframe\">\n",
       "  <thead>\n",
       "    <tr style=\"text-align: right;\">\n",
       "      <th></th>\n",
       "      <th>work_year</th>\n",
       "      <th>experience_level</th>\n",
       "      <th>employment_type</th>\n",
       "      <th>job_title</th>\n",
       "      <th>salary_in_usd</th>\n",
       "      <th>employee_residence</th>\n",
       "      <th>remote_ratio</th>\n",
       "      <th>company_location</th>\n",
       "      <th>company_size</th>\n",
       "    </tr>\n",
       "  </thead>\n",
       "  <tbody>\n",
       "    <tr>\n",
       "      <th>3131</th>\n",
       "      <td>2022</td>\n",
       "      <td>SE</td>\n",
       "      <td>FT</td>\n",
       "      <td>Data Analyst</td>\n",
       "      <td>150075</td>\n",
       "      <td>US</td>\n",
       "      <td>100</td>\n",
       "      <td>US</td>\n",
       "      <td>M</td>\n",
       "    </tr>\n",
       "    <tr>\n",
       "      <th>2098</th>\n",
       "      <td>2022</td>\n",
       "      <td>SE</td>\n",
       "      <td>FT</td>\n",
       "      <td>Data Analyst</td>\n",
       "      <td>125000</td>\n",
       "      <td>US</td>\n",
       "      <td>100</td>\n",
       "      <td>US</td>\n",
       "      <td>M</td>\n",
       "    </tr>\n",
       "    <tr>\n",
       "      <th>68</th>\n",
       "      <td>2023</td>\n",
       "      <td>SE</td>\n",
       "      <td>FT</td>\n",
       "      <td>Data Scientist</td>\n",
       "      <td>309400</td>\n",
       "      <td>US</td>\n",
       "      <td>0</td>\n",
       "      <td>US</td>\n",
       "      <td>L</td>\n",
       "    </tr>\n",
       "    <tr>\n",
       "      <th>3217</th>\n",
       "      <td>2022</td>\n",
       "      <td>SE</td>\n",
       "      <td>FT</td>\n",
       "      <td>Data Scientist</td>\n",
       "      <td>180000</td>\n",
       "      <td>US</td>\n",
       "      <td>100</td>\n",
       "      <td>US</td>\n",
       "      <td>M</td>\n",
       "    </tr>\n",
       "    <tr>\n",
       "      <th>215</th>\n",
       "      <td>2023</td>\n",
       "      <td>SE</td>\n",
       "      <td>FT</td>\n",
       "      <td>Data Analyst</td>\n",
       "      <td>120000</td>\n",
       "      <td>US</td>\n",
       "      <td>100</td>\n",
       "      <td>US</td>\n",
       "      <td>M</td>\n",
       "    </tr>\n",
       "    <tr>\n",
       "      <th>3062</th>\n",
       "      <td>2022</td>\n",
       "      <td>EN</td>\n",
       "      <td>FT</td>\n",
       "      <td>Data Scientist</td>\n",
       "      <td>50000</td>\n",
       "      <td>AT</td>\n",
       "      <td>50</td>\n",
       "      <td>other countries</td>\n",
       "      <td>M</td>\n",
       "    </tr>\n",
       "    <tr>\n",
       "      <th>3166</th>\n",
       "      <td>2022</td>\n",
       "      <td>SE</td>\n",
       "      <td>FT</td>\n",
       "      <td>Data Scientist</td>\n",
       "      <td>215300</td>\n",
       "      <td>US</td>\n",
       "      <td>100</td>\n",
       "      <td>US</td>\n",
       "      <td>L</td>\n",
       "    </tr>\n",
       "    <tr>\n",
       "      <th>3329</th>\n",
       "      <td>2022</td>\n",
       "      <td>SE</td>\n",
       "      <td>FT</td>\n",
       "      <td>Data Analyst</td>\n",
       "      <td>184700</td>\n",
       "      <td>US</td>\n",
       "      <td>0</td>\n",
       "      <td>US</td>\n",
       "      <td>M</td>\n",
       "    </tr>\n",
       "    <tr>\n",
       "      <th>3049</th>\n",
       "      <td>2022</td>\n",
       "      <td>SE</td>\n",
       "      <td>FT</td>\n",
       "      <td>Data Engineer</td>\n",
       "      <td>115000</td>\n",
       "      <td>US</td>\n",
       "      <td>100</td>\n",
       "      <td>US</td>\n",
       "      <td>M</td>\n",
       "    </tr>\n",
       "    <tr>\n",
       "      <th>3156</th>\n",
       "      <td>2022</td>\n",
       "      <td>MI</td>\n",
       "      <td>FT</td>\n",
       "      <td>Machine Learning Engineer</td>\n",
       "      <td>116976</td>\n",
       "      <td>GB</td>\n",
       "      <td>0</td>\n",
       "      <td>GB</td>\n",
       "      <td>M</td>\n",
       "    </tr>\n",
       "  </tbody>\n",
       "</table>\n",
       "</div>"
      ],
      "text/plain": [
       "      work_year experience_level employment_type                  job_title  \\\n",
       "3131       2022               SE              FT               Data Analyst   \n",
       "2098       2022               SE              FT               Data Analyst   \n",
       "68         2023               SE              FT             Data Scientist   \n",
       "3217       2022               SE              FT             Data Scientist   \n",
       "215        2023               SE              FT               Data Analyst   \n",
       "3062       2022               EN              FT             Data Scientist   \n",
       "3166       2022               SE              FT             Data Scientist   \n",
       "3329       2022               SE              FT               Data Analyst   \n",
       "3049       2022               SE              FT              Data Engineer   \n",
       "3156       2022               MI              FT  Machine Learning Engineer   \n",
       "\n",
       "      salary_in_usd employee_residence  remote_ratio company_location  \\\n",
       "3131         150075                 US           100               US   \n",
       "2098         125000                 US           100               US   \n",
       "68           309400                 US             0               US   \n",
       "3217         180000                 US           100               US   \n",
       "215          120000                 US           100               US   \n",
       "3062          50000                 AT            50  other countries   \n",
       "3166         215300                 US           100               US   \n",
       "3329         184700                 US             0               US   \n",
       "3049         115000                 US           100               US   \n",
       "3156         116976                 GB             0               GB   \n",
       "\n",
       "     company_size  \n",
       "3131            M  \n",
       "2098            M  \n",
       "68              L  \n",
       "3217            M  \n",
       "215             M  \n",
       "3062            M  \n",
       "3166            L  \n",
       "3329            M  \n",
       "3049            M  \n",
       "3156            M  "
      ]
     },
     "execution_count": 22,
     "metadata": {},
     "output_type": "execute_result"
    }
   ],
   "source": [
    "df.sample(10)"
   ]
  },
  {
   "attachments": {},
   "cell_type": "markdown",
   "id": "a29c6110-13e2-46a5-b8b6-4fae0344e464",
   "metadata": {
    "jp-MarkdownHeadingCollapsed": true
   },
   "source": [
    "\n",
    "\n",
    "## Exploring the employment_type column"
   ]
  },
  {
   "cell_type": "code",
   "execution_count": 23,
   "id": "21455e84-28d9-4fe4-8173-0af5e2a3527a",
   "metadata": {},
   "outputs": [
    {
     "data": {
      "text/plain": [
       "employment_type\n",
       "FT    3718\n",
       "PT      17\n",
       "CT      10\n",
       "FL      10\n",
       "Name: count, dtype: int64"
      ]
     },
     "execution_count": 23,
     "metadata": {},
     "output_type": "execute_result"
    }
   ],
   "source": [
    "# we can see that the employment type is ok so we leave it like that\n",
    "df.employment_type.value_counts()"
   ]
  },
  {
   "attachments": {},
   "cell_type": "markdown",
   "id": "1f4bbcec-f2f3-47d9-bf4c-b633c1be11ad",
   "metadata": {
    "jp-MarkdownHeadingCollapsed": true
   },
   "source": [
    "## Cleaning the employee_residence column"
   ]
  },
  {
   "cell_type": "code",
   "execution_count": 24,
   "id": "357eb1b9-5b7c-482e-a015-34b510cc19dc",
   "metadata": {},
   "outputs": [
    {
     "data": {
      "text/plain": [
       "employee_residence\n",
       "US    3004\n",
       "GB     167\n",
       "CA      85\n",
       "ES      80\n",
       "IN      71\n",
       "DE      48\n",
       "FR      38\n",
       "PT      18\n",
       "BR      18\n",
       "GR      16\n",
       "Name: count, dtype: int64"
      ]
     },
     "execution_count": 24,
     "metadata": {},
     "output_type": "execute_result"
    }
   ],
   "source": [
    "df.employee_residence.value_counts()[:10]"
   ]
  },
  {
   "cell_type": "code",
   "execution_count": 25,
   "id": "91c2792a-ed97-48c0-8060-d3c4dfe6b3e7",
   "metadata": {},
   "outputs": [
    {
     "data": {
      "text/plain": [
       "employee_residence\n",
       "US                 3004\n",
       "other countries     262\n",
       "GB                  167\n",
       "CA                   85\n",
       "ES                   80\n",
       "IN                   71\n",
       "DE                   48\n",
       "FR                   38\n",
       "Name: count, dtype: int64"
      ]
     },
     "execution_count": 25,
     "metadata": {},
     "output_type": "execute_result"
    }
   ],
   "source": [
    "def allocate_employee_residence(row):\n",
    "    sig_countries = ['US', 'GB', 'CA', 'ES', 'IN', 'DE', 'FR']\n",
    "    if row in sig_countries:\n",
    "        return row\n",
    "    return 'other countries'\n",
    "\n",
    "df['employee_residence'].apply(allocate_employee_residence).value_counts()"
   ]
  },
  {
   "cell_type": "code",
   "execution_count": 26,
   "id": "1daa011f-ccaa-4a52-a235-41be969d516d",
   "metadata": {},
   "outputs": [],
   "source": [
    "df['employee_residence'] = df['employee_residence'].apply(allocate_employee_residence)"
   ]
  },
  {
   "attachments": {},
   "cell_type": "markdown",
   "id": "57178b02-f6d0-4d65-b3d1-389d2c5fce33",
   "metadata": {
    "jp-MarkdownHeadingCollapsed": true
   },
   "source": [
    "## Explorng the company_size_column"
   ]
  },
  {
   "cell_type": "code",
   "execution_count": 27,
   "id": "2dd7f8d1-f336-4698-a0bf-59fdf961e377",
   "metadata": {},
   "outputs": [
    {
     "data": {
      "text/plain": [
       "array(['L', 'S', 'M'], dtype=object)"
      ]
     },
     "execution_count": 27,
     "metadata": {},
     "output_type": "execute_result"
    }
   ],
   "source": [
    "df.company_size.unique()"
   ]
  },
  {
   "cell_type": "code",
   "execution_count": 28,
   "id": "141f3385-1456-422a-b7e0-0f40922be9e5",
   "metadata": {},
   "outputs": [
    {
     "data": {
      "text/plain": [
       "company_size\n",
       "M    3153\n",
       "L     454\n",
       "S     148\n",
       "Name: count, dtype: int64"
      ]
     },
     "execution_count": 28,
     "metadata": {},
     "output_type": "execute_result"
    }
   ],
   "source": [
    "# we can see that the company size is also ok so we leave it like that\n",
    "df.company_size.value_counts()"
   ]
  },
  {
   "cell_type": "code",
   "execution_count": 29,
   "id": "cccc624a-8865-4ec7-b290-5521c1b9eb56",
   "metadata": {},
   "outputs": [
    {
     "data": {
      "text/html": [
       "<div>\n",
       "<style scoped>\n",
       "    .dataframe tbody tr th:only-of-type {\n",
       "        vertical-align: middle;\n",
       "    }\n",
       "\n",
       "    .dataframe tbody tr th {\n",
       "        vertical-align: top;\n",
       "    }\n",
       "\n",
       "    .dataframe thead th {\n",
       "        text-align: right;\n",
       "    }\n",
       "</style>\n",
       "<table border=\"1\" class=\"dataframe\">\n",
       "  <thead>\n",
       "    <tr style=\"text-align: right;\">\n",
       "      <th></th>\n",
       "      <th>work_year</th>\n",
       "      <th>experience_level</th>\n",
       "      <th>employment_type</th>\n",
       "      <th>job_title</th>\n",
       "      <th>salary_in_usd</th>\n",
       "      <th>employee_residence</th>\n",
       "      <th>remote_ratio</th>\n",
       "      <th>company_location</th>\n",
       "      <th>company_size</th>\n",
       "    </tr>\n",
       "  </thead>\n",
       "  <tbody>\n",
       "    <tr>\n",
       "      <th>0</th>\n",
       "      <td>2023</td>\n",
       "      <td>SE</td>\n",
       "      <td>FT</td>\n",
       "      <td>Data Scientist</td>\n",
       "      <td>85847</td>\n",
       "      <td>ES</td>\n",
       "      <td>100</td>\n",
       "      <td>ES</td>\n",
       "      <td>L</td>\n",
       "    </tr>\n",
       "    <tr>\n",
       "      <th>1</th>\n",
       "      <td>2023</td>\n",
       "      <td>MI</td>\n",
       "      <td>CT</td>\n",
       "      <td>Machine Learning Engineer</td>\n",
       "      <td>30000</td>\n",
       "      <td>US</td>\n",
       "      <td>100</td>\n",
       "      <td>US</td>\n",
       "      <td>S</td>\n",
       "    </tr>\n",
       "    <tr>\n",
       "      <th>2</th>\n",
       "      <td>2023</td>\n",
       "      <td>MI</td>\n",
       "      <td>CT</td>\n",
       "      <td>Machine Learning Engineer</td>\n",
       "      <td>25500</td>\n",
       "      <td>US</td>\n",
       "      <td>100</td>\n",
       "      <td>US</td>\n",
       "      <td>S</td>\n",
       "    </tr>\n",
       "    <tr>\n",
       "      <th>3</th>\n",
       "      <td>2023</td>\n",
       "      <td>SE</td>\n",
       "      <td>FT</td>\n",
       "      <td>Data Scientist</td>\n",
       "      <td>175000</td>\n",
       "      <td>CA</td>\n",
       "      <td>100</td>\n",
       "      <td>CA</td>\n",
       "      <td>M</td>\n",
       "    </tr>\n",
       "    <tr>\n",
       "      <th>4</th>\n",
       "      <td>2023</td>\n",
       "      <td>SE</td>\n",
       "      <td>FT</td>\n",
       "      <td>Data Scientist</td>\n",
       "      <td>120000</td>\n",
       "      <td>CA</td>\n",
       "      <td>100</td>\n",
       "      <td>CA</td>\n",
       "      <td>M</td>\n",
       "    </tr>\n",
       "  </tbody>\n",
       "</table>\n",
       "</div>"
      ],
      "text/plain": [
       "   work_year experience_level employment_type                  job_title  \\\n",
       "0       2023               SE              FT             Data Scientist   \n",
       "1       2023               MI              CT  Machine Learning Engineer   \n",
       "2       2023               MI              CT  Machine Learning Engineer   \n",
       "3       2023               SE              FT             Data Scientist   \n",
       "4       2023               SE              FT             Data Scientist   \n",
       "\n",
       "   salary_in_usd employee_residence  remote_ratio company_location  \\\n",
       "0          85847                 ES           100               ES   \n",
       "1          30000                 US           100               US   \n",
       "2          25500                 US           100               US   \n",
       "3         175000                 CA           100               CA   \n",
       "4         120000                 CA           100               CA   \n",
       "\n",
       "  company_size  \n",
       "0            L  \n",
       "1            S  \n",
       "2            S  \n",
       "3            M  \n",
       "4            M  "
      ]
     },
     "execution_count": 29,
     "metadata": {},
     "output_type": "execute_result"
    }
   ],
   "source": [
    "df.head()"
   ]
  },
  {
   "cell_type": "code",
   "execution_count": 30,
   "id": "6fbad137-5ae2-419c-b752-762ea08a6a95",
   "metadata": {},
   "outputs": [
    {
     "data": {
      "text/html": [
       "<div>\n",
       "<style scoped>\n",
       "    .dataframe tbody tr th:only-of-type {\n",
       "        vertical-align: middle;\n",
       "    }\n",
       "\n",
       "    .dataframe tbody tr th {\n",
       "        vertical-align: top;\n",
       "    }\n",
       "\n",
       "    .dataframe thead th {\n",
       "        text-align: right;\n",
       "    }\n",
       "</style>\n",
       "<table border=\"1\" class=\"dataframe\">\n",
       "  <thead>\n",
       "    <tr style=\"text-align: right;\">\n",
       "      <th></th>\n",
       "      <th>work_year</th>\n",
       "      <th>salary_in_usd</th>\n",
       "      <th>remote_ratio</th>\n",
       "    </tr>\n",
       "  </thead>\n",
       "  <tbody>\n",
       "    <tr>\n",
       "      <th>work_year</th>\n",
       "      <td>1.00000</td>\n",
       "      <td>0.228290</td>\n",
       "      <td>-0.236430</td>\n",
       "    </tr>\n",
       "    <tr>\n",
       "      <th>salary_in_usd</th>\n",
       "      <td>0.22829</td>\n",
       "      <td>1.000000</td>\n",
       "      <td>-0.064171</td>\n",
       "    </tr>\n",
       "    <tr>\n",
       "      <th>remote_ratio</th>\n",
       "      <td>-0.23643</td>\n",
       "      <td>-0.064171</td>\n",
       "      <td>1.000000</td>\n",
       "    </tr>\n",
       "  </tbody>\n",
       "</table>\n",
       "</div>"
      ],
      "text/plain": [
       "               work_year  salary_in_usd  remote_ratio\n",
       "work_year        1.00000       0.228290     -0.236430\n",
       "salary_in_usd    0.22829       1.000000     -0.064171\n",
       "remote_ratio    -0.23643      -0.064171      1.000000"
      ]
     },
     "execution_count": 30,
     "metadata": {},
     "output_type": "execute_result"
    }
   ],
   "source": [
    "df.corr(numeric_only = True)"
   ]
  },
  {
   "cell_type": "markdown",
   "id": "fb5ca083-147b-4a4d-a705-5d808aba08b0",
   "metadata": {
    "jp-MarkdownHeadingCollapsed": true
   },
   "source": [
    "## Data Visualization"
   ]
  },
  {
   "cell_type": "markdown",
   "id": "de8e377e-200b-447f-b9f1-cc5c88ea4dec",
   "metadata": {},
   "source": [
    "### Work_year"
   ]
  },
  {
   "cell_type": "code",
   "execution_count": 31,
   "id": "92a92a46-35a3-4f89-9d16-c864ee3f87a6",
   "metadata": {},
   "outputs": [
    {
     "data": {
      "text/plain": [
       "<Axes: xlabel='work_year', ylabel='salary_in_avg'>"
      ]
     },
     "execution_count": 31,
     "metadata": {},
     "output_type": "execute_result"
    },
    {
     "data": {
      "image/png": "[encoded data removed]",
      "text/plain": [
       "<Figure size 640x480 with 1 Axes>"
      ]
     },
     "metadata": {},
     "output_type": "display_data"
    }
   ],
   "source": [
    "df[['work_year', 'salary_in_usd']].groupby('work_year').agg('mean').plot(kind = 'bar', xlabel = 'work_year',ylabel = 'salary_in_avg')"
   ]
  },
  {
   "cell_type": "markdown",
   "id": "5e395684-6ac3-49ef-a13d-8bed6a13073d",
   "metadata": {},
   "source": [
    "\n",
    "The visualization above showed the following:\n",
    "\n",
    "- Data science as a profession records a very significant higher average salary\n",
    "- The trend for increase in salary continues \n"
   ]
  },
  {
   "cell_type": "markdown",
   "id": "5be4564d-24d6-4c33-9021-ad93fb0db4d0",
   "metadata": {},
   "source": [
    "### experience_level"
   ]
  },
  {
   "cell_type": "code",
   "execution_count": 32,
   "id": "1326fc22-5772-46e5-b5d8-514b98deb02e",
   "metadata": {},
   "outputs": [
    {
     "data": {
      "text/plain": [
       "<Axes: xlabel='experience_level', ylabel='salary_in_avg'>"
      ]
     },
     "execution_count": 32,
     "metadata": {},
     "output_type": "execute_result"
    },
    {
     "data": {
      "image/png": "[encoded data removed]",
      "text/plain": [
       "<Figure size 640x480 with 1 Axes>"
      ]
     },
     "metadata": {},
     "output_type": "display_data"
    }
   ],
   "source": [
    "df[['experience_level', 'salary_in_usd']].groupby('experience_level').agg('mean').plot(kind = 'bar', xlabel = 'experience_level',ylabel = 'salary_in_avg')"
   ]
  },
  {
   "cell_type": "markdown",
   "id": "2e46ad99-0c1c-4713-a891-d8b1399e681b",
   "metadata": {},
   "source": [
    "From the bar chart above the following observations were taken: \n",
    "\n",
    "- `Entry Level` developers earn on average around $75000 per year\n",
    "  \n",
    "- The highest paid position are for the Expert `Data Scientists/Engineer` which is around $190000 per year\n",
    "\n",
    "- `Senior Engineers` earn on average around $160000 per year\n",
    "\n",
    "- `Machine Learning` Engineer earn on average above $100000 per year"
   ]
  },
  {
   "cell_type": "markdown",
   "id": "a295617e-8c8d-4a95-813d-648d94ed72c7",
   "metadata": {},
   "source": [
    "### employment_type"
   ]
  },
  {
   "cell_type": "code",
   "execution_count": 33,
   "id": "acb36161-46c0-4d07-85ce-7a52c4bd7136",
   "metadata": {},
   "outputs": [
    {
     "data": {
      "text/plain": [
       "<Axes: xlabel='employment_type', ylabel='salary_in_avg'>"
      ]
     },
     "execution_count": 33,
     "metadata": {},
     "output_type": "execute_result"
    },
    {
     "data": {
      "image/png": "[encoded data removed]",
      "text/plain": [
       "<Figure size 640x480 with 1 Axes>"
      ]
     },
     "metadata": {},
     "output_type": "display_data"
    }
   ],
   "source": [
    "df[['employment_type', 'salary_in_usd']].groupby('employment_type').agg('mean').plot(kind = 'bar', xlabel = 'employment_type',ylabel = 'salary_in_avg')"
   ]
  },
  {
   "cell_type": "markdown",
   "id": "b3c2ec94-8d77-4106-af60-9b177cf1ef2e",
   "metadata": {},
   "source": [
    "From the bar chart above the following observations were taken: \n",
    "\n",
    "- `Part Time` job Developers earn on average around $40000 per year\n",
    "  \n",
    "- `Full Time` job Developers earn the highest which is around $135000 per year\n",
    "\n",
    "- `Contract` job Developers earn on average around $115000 per year\n",
    "\n",
    "- `Freelance` job Developers earn on average around $50000 per year"
   ]
  },
  {
   "cell_type": "markdown",
   "id": "678a67ef-af70-4db2-9aef-eebf858cfec2",
   "metadata": {},
   "source": [
    "### job_title"
   ]
  },
  {
   "cell_type": "code",
   "execution_count": 34,
   "id": "1fe662d1-98cf-479d-aaf8-59d5ab7a27c7",
   "metadata": {},
   "outputs": [
    {
     "data": {
      "text/plain": [
       "<Axes: xlabel='job_title', ylabel='salary_in_avg'>"
      ]
     },
     "execution_count": 34,
     "metadata": {},
     "output_type": "execute_result"
    },
    {
     "data": {
      "image/png": "[encoded data removed]",
      "text/plain": [
       "<Figure size 640x480 with 1 Axes>"
      ]
     },
     "metadata": {},
     "output_type": "display_data"
    }
   ],
   "source": [
    "df[['job_title', 'salary_in_usd']].groupby('job_title').agg('mean').plot(kind = 'bar', xlabel = 'job_title',ylabel = 'salary_in_avg')\n"
   ]
  },
  {
   "cell_type": "markdown",
   "id": "788915d5-591f-44fd-b204-0022faac2355",
   "metadata": {},
   "source": [
    "The chart above showed that Data Analyst are the least paid professionals in data science"
   ]
  },
  {
   "cell_type": "markdown",
   "id": "88fe3702-794b-4e00-9868-2dcaeca370ef",
   "metadata": {},
   "source": [
    "### company_size"
   ]
  },
  {
   "cell_type": "code",
   "execution_count": 35,
   "id": "c70b86f8-8645-4e2b-9d31-0a41ac2455f4",
   "metadata": {},
   "outputs": [
    {
     "data": {
      "text/plain": [
       "<Axes: xlabel='company_size', ylabel='salary_in_avg'>"
      ]
     },
     "execution_count": 35,
     "metadata": {},
     "output_type": "execute_result"
    },
    {
     "data": {
      "image/png": "[encoded data removed]",
      "text/plain": [
       "<Figure size 640x480 with 1 Axes>"
      ]
     },
     "metadata": {},
     "output_type": "display_data"
    }
   ],
   "source": [
    "df[['company_size', 'salary_in_usd']].groupby('company_size').agg('mean').plot(kind = 'bar', xlabel = 'company_size',ylabel = 'salary_in_avg')"
   ]
  },
  {
   "cell_type": "markdown",
   "id": "c92096a2-97bb-4d1d-bdcf-c30be6ae7efa",
   "metadata": {},
   "source": [
    "From the chart above we observe that:\n",
    "\n",
    "- Mid size company pay higher than Large companies\n",
    "- Startup and small companies pay the least"
   ]
  },
  {
   "cell_type": "markdown",
   "id": "5172f240-93d9-4a81-82e2-7e76c1903b67",
   "metadata": {},
   "source": [
    "### company_location"
   ]
  },
  {
   "cell_type": "code",
   "execution_count": 36,
   "id": "b224bf7d-f7d7-4da8-8c10-89fb6f81bc4a",
   "metadata": {},
   "outputs": [
    {
     "data": {
      "text/plain": [
       "<Axes: xlabel='company_location', ylabel='salary_in_avg'>"
      ]
     },
     "execution_count": 36,
     "metadata": {},
     "output_type": "execute_result"
    },
    {
     "data": {
      "image/png": "[encoded data removed]",
      "text/plain": [
       "<Figure size 640x480 with 1 Axes>"
      ]
     },
     "metadata": {},
     "output_type": "display_data"
    }
   ],
   "source": [
    "df[['company_location', 'salary_in_usd']].groupby('company_location').agg('mean').plot(kind = 'bar', xlabel = 'company_location',ylabel = 'salary_in_avg')"
   ]
  },
  {
   "cell_type": "code",
   "execution_count": 37,
   "id": "17e8389b-8e24-4955-a70b-0fe28f777a96",
   "metadata": {},
   "outputs": [
    {
     "data": {
      "text/plain": [
       "<Axes: ylabel='count'>"
      ]
     },
     "execution_count": 37,
     "metadata": {},
     "output_type": "execute_result"
    },
    {
     "data": {
      "image/png": "[encoded data removed]",
      "text/plain": [
       "<Figure size 700x1000 with 1 Axes>"
      ]
     },
     "metadata": {},
     "output_type": "display_data"
    }
   ],
   "source": [
    "cl = df.company_location.value_counts()\n",
    "cl.plot(kind = 'pie', labels= cl.index, autopct='%1.2f%%', figsize = (7,10))"
   ]
  },
  {
   "cell_type": "markdown",
   "id": "5b2193ff-68bf-417c-be58-d0cd5a4400f8",
   "metadata": {},
   "source": [
    "From the bar chart above:\n",
    "\n",
    "- US companies pay the Highest followed by Canada\n",
    "- Indian companies pay the lowest\n",
    "\n",
    "The pie chart above shows that:\n",
    " \n",
    "- The demand for data science profession is relatively high in the US"
   ]
  },
  {
   "cell_type": "markdown",
   "id": "269f0a51-a9b4-4032-830f-728a4586144f",
   "metadata": {},
   "source": [
    "### employee_residence"
   ]
  },
  {
   "cell_type": "code",
   "execution_count": 38,
   "id": "4cbeb7f8-a988-4858-b39e-45652bc99f2b",
   "metadata": {},
   "outputs": [
    {
     "data": {
      "text/plain": [
       "<Axes: ylabel='count'>"
      ]
     },
     "execution_count": 38,
     "metadata": {},
     "output_type": "execute_result"
    },
    {
     "data": {
      "image/png": "[encoded data removed]",
      "text/plain": [
       "<Figure size 640x480 with 1 Axes>"
      ]
     },
     "metadata": {},
     "output_type": "display_data"
    }
   ],
   "source": [
    "er = df.employee_residence.value_counts()\n",
    "er.plot(kind = 'pie')"
   ]
  },
  {
   "cell_type": "markdown",
   "id": "d5f31cdb-e0a4-4ec3-9769-1bbecb84a543",
   "metadata": {},
   "source": [
    "The most data science professionals come from the US"
   ]
  },
  {
   "cell_type": "markdown",
   "id": "00f3a529-8353-4755-87bf-9c63a1d0782b",
   "metadata": {},
   "source": [
    "### Conclusion"
   ]
  },
  {
   "cell_type": "markdown",
   "id": "743d6b40-ad19-4e31-97e4-5dc53e9de56a",
   "metadata": {},
   "source": [
    "Based on the provided observations, we can draw the following data analytic summary:\n",
    "\n",
    "* `Salary Analysis`: The visualization indicates that data science as a profession records significantly higher average salaries compared to other roles. The highest-paid positions are Expert Data Scientists/Engineers, followed by Senior Engineers and Machine Learning Engineers. Entry-level developers in the data science field earn an average salary of around $75,000 per year.\n",
    "\n",
    "* `Job Type Analysis`: The bar chart reveals that full-time job developers earn the highest average salary, followed by contract job developers. Part-time and freelance job developers earn comparatively lower salaries.\n",
    "\n",
    "* `Data Analyst Salary`: Data analysts are observed to be the least paid professionals in the data science field, according to the provided information.\n",
    "\n",
    "* `Company Size Analysis`: The chart indicates that mid-size companies tend to offer higher salaries compared to large companies. Startup and small companies generally offer lower salaries.\n",
    "\n",
    "* `Geographical Salary Analysis`: Based on the bar chart, US companies pay the highest salaries, followed by Canada. On the other hand, Indian companies offer relatively lower salaries.\n",
    "\n",
    "* `Geographical Demand`: The pie chart suggests that there is relatively high demand for data science professionals in the US, as the majority of data science professionals come from the US.\n",
    "\n",
    "In conclusion, data science as a profession offers higher average salaries, with expert-level positions commanding the highest pay. Full-time job developers tend to earn higher salaries compared to other job types. Salary levels and demand for data science professionals vary across countries, with the US being a prominent location for data science opportunities."
   ]
  },
  {
   "cell_type": "code",
   "execution_count": 39,
   "id": "048312ea-2260-4ea8-a292-95432b2f7ed9",
   "metadata": {},
   "outputs": [
    {
     "data": {
      "text/html": [
       "<div>\n",
       "<style scoped>\n",
       "    .dataframe tbody tr th:only-of-type {\n",
       "        vertical-align: middle;\n",
       "    }\n",
       "\n",
       "    .dataframe tbody tr th {\n",
       "        vertical-align: top;\n",
       "    }\n",
       "\n",
       "    .dataframe thead th {\n",
       "        text-align: right;\n",
       "    }\n",
       "</style>\n",
       "<table border=\"1\" class=\"dataframe\">\n",
       "  <thead>\n",
       "    <tr style=\"text-align: right;\">\n",
       "      <th></th>\n",
       "      <th>work_year</th>\n",
       "      <th>salary_in_usd</th>\n",
       "      <th>remote_ratio</th>\n",
       "    </tr>\n",
       "  </thead>\n",
       "  <tbody>\n",
       "    <tr>\n",
       "      <th>count</th>\n",
       "      <td>3755.000000</td>\n",
       "      <td>3755.000000</td>\n",
       "      <td>3755.000000</td>\n",
       "    </tr>\n",
       "    <tr>\n",
       "      <th>mean</th>\n",
       "      <td>2022.373635</td>\n",
       "      <td>137570.389880</td>\n",
       "      <td>46.271638</td>\n",
       "    </tr>\n",
       "    <tr>\n",
       "      <th>std</th>\n",
       "      <td>0.691448</td>\n",
       "      <td>63055.625278</td>\n",
       "      <td>48.589050</td>\n",
       "    </tr>\n",
       "    <tr>\n",
       "      <th>min</th>\n",
       "      <td>2020.000000</td>\n",
       "      <td>5132.000000</td>\n",
       "      <td>0.000000</td>\n",
       "    </tr>\n",
       "    <tr>\n",
       "      <th>25%</th>\n",
       "      <td>2022.000000</td>\n",
       "      <td>95000.000000</td>\n",
       "      <td>0.000000</td>\n",
       "    </tr>\n",
       "    <tr>\n",
       "      <th>50%</th>\n",
       "      <td>2022.000000</td>\n",
       "      <td>135000.000000</td>\n",
       "      <td>0.000000</td>\n",
       "    </tr>\n",
       "    <tr>\n",
       "      <th>75%</th>\n",
       "      <td>2023.000000</td>\n",
       "      <td>175000.000000</td>\n",
       "      <td>100.000000</td>\n",
       "    </tr>\n",
       "    <tr>\n",
       "      <th>max</th>\n",
       "      <td>2023.000000</td>\n",
       "      <td>450000.000000</td>\n",
       "      <td>100.000000</td>\n",
       "    </tr>\n",
       "  </tbody>\n",
       "</table>\n",
       "</div>"
      ],
      "text/plain": [
       "         work_year  salary_in_usd  remote_ratio\n",
       "count  3755.000000    3755.000000   3755.000000\n",
       "mean   2022.373635  137570.389880     46.271638\n",
       "std       0.691448   63055.625278     48.589050\n",
       "min    2020.000000    5132.000000      0.000000\n",
       "25%    2022.000000   95000.000000      0.000000\n",
       "50%    2022.000000  135000.000000      0.000000\n",
       "75%    2023.000000  175000.000000    100.000000\n",
       "max    2023.000000  450000.000000    100.000000"
      ]
     },
     "execution_count": 39,
     "metadata": {},
     "output_type": "execute_result"
    }
   ],
   "source": [
    "df.describe()"
   ]
  },
  {
   "cell_type": "markdown",
   "id": "e9201e97-9fcf-4c94-b903-1e8aa22c1552",
   "metadata": {},
   "source": [
    "## Data Encoding"
   ]
  },
  {
   "cell_type": "markdown",
   "id": "b6ecbcd9-1983-46b9-8a44-f52dbe35c20d",
   "metadata": {},
   "source": [
    "The following columns are in object or categorical datatypes\n",
    "- experience_level\n",
    "- employment_type\n",
    "- job_title\n",
    "- employee_residence\n",
    "- remote_ratio\n",
    "- company_location\n",
    "- company_size"
   ]
  },
  {
   "cell_type": "code",
   "execution_count": 40,
   "id": "e166dc85-ddd5-4817-985f-350e6bfd1a5e",
   "metadata": {},
   "outputs": [],
   "source": [
    "df['employee_residence'] = df['employee_residence'].apply(lambda x: 'US' if x == 'US' else 'other_countries')"
   ]
  },
  {
   "cell_type": "code",
   "execution_count": 41,
   "id": "03c9e886-2ff1-4f27-b37f-a51cf95d82d4",
   "metadata": {},
   "outputs": [],
   "source": [
    "df['company_location'] = df['company_location'].apply(lambda x: 'US' if x == 'US' else 'other_countries')"
   ]
  },
  {
   "cell_type": "code",
   "execution_count": 42,
   "id": "953a9ffd-44dd-4cd2-a2f0-6f398290306a",
   "metadata": {},
   "outputs": [
    {
     "data": {
      "text/html": [
       "<div>\n",
       "<style scoped>\n",
       "    .dataframe tbody tr th:only-of-type {\n",
       "        vertical-align: middle;\n",
       "    }\n",
       "\n",
       "    .dataframe tbody tr th {\n",
       "        vertical-align: top;\n",
       "    }\n",
       "\n",
       "    .dataframe thead th {\n",
       "        text-align: right;\n",
       "    }\n",
       "</style>\n",
       "<table border=\"1\" class=\"dataframe\">\n",
       "  <thead>\n",
       "    <tr style=\"text-align: right;\">\n",
       "      <th></th>\n",
       "      <th>work_year</th>\n",
       "      <th>experience_level</th>\n",
       "      <th>employment_type</th>\n",
       "      <th>job_title</th>\n",
       "      <th>salary_in_usd</th>\n",
       "      <th>employee_residence</th>\n",
       "      <th>remote_ratio</th>\n",
       "      <th>company_location</th>\n",
       "      <th>company_size</th>\n",
       "    </tr>\n",
       "  </thead>\n",
       "  <tbody>\n",
       "    <tr>\n",
       "      <th>0</th>\n",
       "      <td>2023</td>\n",
       "      <td>SE</td>\n",
       "      <td>FT</td>\n",
       "      <td>Data Scientist</td>\n",
       "      <td>85847</td>\n",
       "      <td>other_countries</td>\n",
       "      <td>100</td>\n",
       "      <td>other_countries</td>\n",
       "      <td>L</td>\n",
       "    </tr>\n",
       "    <tr>\n",
       "      <th>1</th>\n",
       "      <td>2023</td>\n",
       "      <td>MI</td>\n",
       "      <td>CT</td>\n",
       "      <td>Machine Learning Engineer</td>\n",
       "      <td>30000</td>\n",
       "      <td>US</td>\n",
       "      <td>100</td>\n",
       "      <td>US</td>\n",
       "      <td>S</td>\n",
       "    </tr>\n",
       "    <tr>\n",
       "      <th>2</th>\n",
       "      <td>2023</td>\n",
       "      <td>MI</td>\n",
       "      <td>CT</td>\n",
       "      <td>Machine Learning Engineer</td>\n",
       "      <td>25500</td>\n",
       "      <td>US</td>\n",
       "      <td>100</td>\n",
       "      <td>US</td>\n",
       "      <td>S</td>\n",
       "    </tr>\n",
       "    <tr>\n",
       "      <th>3</th>\n",
       "      <td>2023</td>\n",
       "      <td>SE</td>\n",
       "      <td>FT</td>\n",
       "      <td>Data Scientist</td>\n",
       "      <td>175000</td>\n",
       "      <td>other_countries</td>\n",
       "      <td>100</td>\n",
       "      <td>other_countries</td>\n",
       "      <td>M</td>\n",
       "    </tr>\n",
       "    <tr>\n",
       "      <th>4</th>\n",
       "      <td>2023</td>\n",
       "      <td>SE</td>\n",
       "      <td>FT</td>\n",
       "      <td>Data Scientist</td>\n",
       "      <td>120000</td>\n",
       "      <td>other_countries</td>\n",
       "      <td>100</td>\n",
       "      <td>other_countries</td>\n",
       "      <td>M</td>\n",
       "    </tr>\n",
       "    <tr>\n",
       "      <th>...</th>\n",
       "      <td>...</td>\n",
       "      <td>...</td>\n",
       "      <td>...</td>\n",
       "      <td>...</td>\n",
       "      <td>...</td>\n",
       "      <td>...</td>\n",
       "      <td>...</td>\n",
       "      <td>...</td>\n",
       "      <td>...</td>\n",
       "    </tr>\n",
       "    <tr>\n",
       "      <th>3750</th>\n",
       "      <td>2020</td>\n",
       "      <td>SE</td>\n",
       "      <td>FT</td>\n",
       "      <td>Data Scientist</td>\n",
       "      <td>412000</td>\n",
       "      <td>US</td>\n",
       "      <td>100</td>\n",
       "      <td>US</td>\n",
       "      <td>L</td>\n",
       "    </tr>\n",
       "    <tr>\n",
       "      <th>3751</th>\n",
       "      <td>2021</td>\n",
       "      <td>MI</td>\n",
       "      <td>FT</td>\n",
       "      <td>Data Scientist</td>\n",
       "      <td>151000</td>\n",
       "      <td>US</td>\n",
       "      <td>100</td>\n",
       "      <td>US</td>\n",
       "      <td>L</td>\n",
       "    </tr>\n",
       "    <tr>\n",
       "      <th>3752</th>\n",
       "      <td>2020</td>\n",
       "      <td>EN</td>\n",
       "      <td>FT</td>\n",
       "      <td>Data Scientist</td>\n",
       "      <td>105000</td>\n",
       "      <td>US</td>\n",
       "      <td>100</td>\n",
       "      <td>US</td>\n",
       "      <td>S</td>\n",
       "    </tr>\n",
       "    <tr>\n",
       "      <th>3753</th>\n",
       "      <td>2020</td>\n",
       "      <td>EN</td>\n",
       "      <td>CT</td>\n",
       "      <td>Data Analyst</td>\n",
       "      <td>100000</td>\n",
       "      <td>US</td>\n",
       "      <td>100</td>\n",
       "      <td>US</td>\n",
       "      <td>L</td>\n",
       "    </tr>\n",
       "    <tr>\n",
       "      <th>3754</th>\n",
       "      <td>2021</td>\n",
       "      <td>SE</td>\n",
       "      <td>FT</td>\n",
       "      <td>Data Scientist</td>\n",
       "      <td>94665</td>\n",
       "      <td>other_countries</td>\n",
       "      <td>50</td>\n",
       "      <td>other_countries</td>\n",
       "      <td>L</td>\n",
       "    </tr>\n",
       "  </tbody>\n",
       "</table>\n",
       "<p>3755 rows × 9 columns</p>\n",
       "</div>"
      ],
      "text/plain": [
       "      work_year experience_level employment_type                  job_title  \\\n",
       "0          2023               SE              FT             Data Scientist   \n",
       "1          2023               MI              CT  Machine Learning Engineer   \n",
       "2          2023               MI              CT  Machine Learning Engineer   \n",
       "3          2023               SE              FT             Data Scientist   \n",
       "4          2023               SE              FT             Data Scientist   \n",
       "...         ...              ...             ...                        ...   \n",
       "3750       2020               SE              FT             Data Scientist   \n",
       "3751       2021               MI              FT             Data Scientist   \n",
       "3752       2020               EN              FT             Data Scientist   \n",
       "3753       2020               EN              CT               Data Analyst   \n",
       "3754       2021               SE              FT             Data Scientist   \n",
       "\n",
       "      salary_in_usd employee_residence  remote_ratio company_location  \\\n",
       "0             85847    other_countries           100  other_countries   \n",
       "1             30000                 US           100               US   \n",
       "2             25500                 US           100               US   \n",
       "3            175000    other_countries           100  other_countries   \n",
       "4            120000    other_countries           100  other_countries   \n",
       "...             ...                ...           ...              ...   \n",
       "3750         412000                 US           100               US   \n",
       "3751         151000                 US           100               US   \n",
       "3752         105000                 US           100               US   \n",
       "3753         100000                 US           100               US   \n",
       "3754          94665    other_countries            50  other_countries   \n",
       "\n",
       "     company_size  \n",
       "0               L  \n",
       "1               S  \n",
       "2               S  \n",
       "3               M  \n",
       "4               M  \n",
       "...           ...  \n",
       "3750            L  \n",
       "3751            L  \n",
       "3752            S  \n",
       "3753            L  \n",
       "3754            L  \n",
       "\n",
       "[3755 rows x 9 columns]"
      ]
     },
     "execution_count": 42,
     "metadata": {},
     "output_type": "execute_result"
    }
   ],
   "source": [
    "df"
   ]
  },
  {
   "cell_type": "code",
   "execution_count": 43,
   "id": "2f6624af-c5d8-4c22-9c9f-fce44f9a5ba7",
   "metadata": {},
   "outputs": [
    {
     "name": "stdout",
     "output_type": "stream",
     "text": [
      "<class 'pandas.core.frame.DataFrame'>\n",
      "RangeIndex: 3755 entries, 0 to 3754\n",
      "Data columns (total 9 columns):\n",
      " #   Column              Non-Null Count  Dtype \n",
      "---  ------              --------------  ----- \n",
      " 0   work_year           3755 non-null   int64 \n",
      " 1   experience_level    3755 non-null   object\n",
      " 2   employment_type     3755 non-null   object\n",
      " 3   job_title           3755 non-null   object\n",
      " 4   salary_in_usd       3755 non-null   int64 \n",
      " 5   employee_residence  3755 non-null   object\n",
      " 6   remote_ratio        3755 non-null   int64 \n",
      " 7   company_location    3755 non-null   object\n",
      " 8   company_size        3755 non-null   object\n",
      "dtypes: int64(3), object(6)\n",
      "memory usage: 264.1+ KB\n"
     ]
    }
   ],
   "source": [
    "df.info()"
   ]
  },
  {
   "cell_type": "code",
   "execution_count": 44,
   "id": "129dafff-6296-4930-a647-877b35ee79c2",
   "metadata": {},
   "outputs": [],
   "source": [
    "# df['remote_ratio'] = df['remote_ratio'].values.reshape(-1, 1)"
   ]
  },
  {
   "cell_type": "code",
   "execution_count": 45,
   "id": "918e00e4-1b22-4447-83b4-67f8ce9c3d51",
   "metadata": {},
   "outputs": [],
   "source": [
    "# num_cols = ['remote_ratio']\n",
    "# cat_ordinal_cols = ['job_title', 'employee_residence', 'company_location']\n",
    "# cat_onehot_cols = ['experience_level', 'employment_type', 'company_size']"
   ]
  },
  {
   "cell_type": "code",
   "execution_count": 46,
   "id": "18a8598f-2844-403a-8c2e-27e5f26a96c3",
   "metadata": {},
   "outputs": [],
   "source": [
    "# full_pipeline = ColumnTransformer([\n",
    "#     (\"cat_ordinal\", OrdinalEncoder(), cat_ordinal_cols),\n",
    "#     ('cat_onehot', OneHotEncoder(), cat_onehot_cols),\n",
    "#     (\"num\",  StandardScaler(), num_cols),    \n",
    "# ],remainder = 'passthrough')"
   ]
  },
  {
   "cell_type": "code",
   "execution_count": 47,
   "id": "eb2288b4-f20b-4910-995b-df6dbd100332",
   "metadata": {},
   "outputs": [],
   "source": [
    "# full_pipeline"
   ]
  },
  {
   "cell_type": "code",
   "execution_count": 48,
   "id": "b81236c9-dda9-476c-bfcf-327061130151",
   "metadata": {},
   "outputs": [],
   "source": [
    "# ready_df = full_pipeline.fit_transform(df)"
   ]
  },
  {
   "cell_type": "code",
   "execution_count": 49,
   "id": "f02fa08b-2b3f-41b4-bba6-98fa9f801100",
   "metadata": {},
   "outputs": [],
   "source": [
    "df = pd.get_dummies(df, columns = ['employee_residence', 'company_location'])"
   ]
  },
  {
   "cell_type": "code",
   "execution_count": null,
   "id": "ddd6031e-6b54-4561-861e-cdd14507bc69",
   "metadata": {},
   "outputs": [],
   "source": []
  },
  {
   "cell_type": "code",
   "execution_count": 50,
   "id": "e1f8159e-6be9-48ac-95d0-e66364cc3c61",
   "metadata": {},
   "outputs": [],
   "source": [
    "ordinal = OrdinalEncoder()"
   ]
  },
  {
   "cell_type": "code",
   "execution_count": 51,
   "id": "51080156-e378-4e54-9183-63e80ed5168c",
   "metadata": {},
   "outputs": [],
   "source": [
    "ordinal_cols = ['work_year', 'remote_ratio', 'job_title', 'employment_type', 'experience_level', 'company_size']"
   ]
  },
  {
   "cell_type": "code",
   "execution_count": 52,
   "id": "7c4b5cc3-73b2-403b-b6f8-dc3cb021317b",
   "metadata": {},
   "outputs": [],
   "source": [
    "df[ordinal_cols] = ordinal.fit_transform(df[ordinal_cols]).astype('int')\n"
   ]
  },
  {
   "cell_type": "code",
   "execution_count": 53,
   "id": "dfc11c06-3ef0-440e-a718-c968f8c699e9",
   "metadata": {},
   "outputs": [
    {
     "data": {
      "text/html": [
       "<div>\n",
       "<style scoped>\n",
       "    .dataframe tbody tr th:only-of-type {\n",
       "        vertical-align: middle;\n",
       "    }\n",
       "\n",
       "    .dataframe tbody tr th {\n",
       "        vertical-align: top;\n",
       "    }\n",
       "\n",
       "    .dataframe thead th {\n",
       "        text-align: right;\n",
       "    }\n",
       "</style>\n",
       "<table border=\"1\" class=\"dataframe\">\n",
       "  <thead>\n",
       "    <tr style=\"text-align: right;\">\n",
       "      <th></th>\n",
       "      <th>work_year</th>\n",
       "      <th>experience_level</th>\n",
       "      <th>employment_type</th>\n",
       "      <th>job_title</th>\n",
       "      <th>salary_in_usd</th>\n",
       "      <th>remote_ratio</th>\n",
       "      <th>company_size</th>\n",
       "      <th>employee_residence_US</th>\n",
       "      <th>employee_residence_other_countries</th>\n",
       "      <th>company_location_US</th>\n",
       "      <th>company_location_other_countries</th>\n",
       "    </tr>\n",
       "  </thead>\n",
       "  <tbody>\n",
       "    <tr>\n",
       "      <th>246</th>\n",
       "      <td>3</td>\n",
       "      <td>3</td>\n",
       "      <td>2</td>\n",
       "      <td>2</td>\n",
       "      <td>134236</td>\n",
       "      <td>0</td>\n",
       "      <td>1</td>\n",
       "      <td>True</td>\n",
       "      <td>False</td>\n",
       "      <td>True</td>\n",
       "      <td>False</td>\n",
       "    </tr>\n",
       "    <tr>\n",
       "      <th>2647</th>\n",
       "      <td>2</td>\n",
       "      <td>2</td>\n",
       "      <td>2</td>\n",
       "      <td>1</td>\n",
       "      <td>98000</td>\n",
       "      <td>0</td>\n",
       "      <td>1</td>\n",
       "      <td>True</td>\n",
       "      <td>False</td>\n",
       "      <td>True</td>\n",
       "      <td>False</td>\n",
       "    </tr>\n",
       "    <tr>\n",
       "      <th>3155</th>\n",
       "      <td>2</td>\n",
       "      <td>2</td>\n",
       "      <td>2</td>\n",
       "      <td>3</td>\n",
       "      <td>200000</td>\n",
       "      <td>2</td>\n",
       "      <td>0</td>\n",
       "      <td>False</td>\n",
       "      <td>True</td>\n",
       "      <td>True</td>\n",
       "      <td>False</td>\n",
       "    </tr>\n",
       "    <tr>\n",
       "      <th>53</th>\n",
       "      <td>3</td>\n",
       "      <td>3</td>\n",
       "      <td>2</td>\n",
       "      <td>2</td>\n",
       "      <td>199098</td>\n",
       "      <td>2</td>\n",
       "      <td>1</td>\n",
       "      <td>True</td>\n",
       "      <td>False</td>\n",
       "      <td>True</td>\n",
       "      <td>False</td>\n",
       "    </tr>\n",
       "    <tr>\n",
       "      <th>2047</th>\n",
       "      <td>2</td>\n",
       "      <td>3</td>\n",
       "      <td>2</td>\n",
       "      <td>2</td>\n",
       "      <td>37824</td>\n",
       "      <td>0</td>\n",
       "      <td>1</td>\n",
       "      <td>False</td>\n",
       "      <td>True</td>\n",
       "      <td>False</td>\n",
       "      <td>True</td>\n",
       "    </tr>\n",
       "    <tr>\n",
       "      <th>1310</th>\n",
       "      <td>3</td>\n",
       "      <td>3</td>\n",
       "      <td>2</td>\n",
       "      <td>2</td>\n",
       "      <td>148750</td>\n",
       "      <td>0</td>\n",
       "      <td>1</td>\n",
       "      <td>True</td>\n",
       "      <td>False</td>\n",
       "      <td>True</td>\n",
       "      <td>False</td>\n",
       "    </tr>\n",
       "    <tr>\n",
       "      <th>143</th>\n",
       "      <td>3</td>\n",
       "      <td>3</td>\n",
       "      <td>2</td>\n",
       "      <td>0</td>\n",
       "      <td>204500</td>\n",
       "      <td>0</td>\n",
       "      <td>1</td>\n",
       "      <td>True</td>\n",
       "      <td>False</td>\n",
       "      <td>True</td>\n",
       "      <td>False</td>\n",
       "    </tr>\n",
       "    <tr>\n",
       "      <th>1197</th>\n",
       "      <td>3</td>\n",
       "      <td>0</td>\n",
       "      <td>2</td>\n",
       "      <td>0</td>\n",
       "      <td>75000</td>\n",
       "      <td>2</td>\n",
       "      <td>1</td>\n",
       "      <td>True</td>\n",
       "      <td>False</td>\n",
       "      <td>True</td>\n",
       "      <td>False</td>\n",
       "    </tr>\n",
       "    <tr>\n",
       "      <th>1362</th>\n",
       "      <td>3</td>\n",
       "      <td>3</td>\n",
       "      <td>2</td>\n",
       "      <td>3</td>\n",
       "      <td>163800</td>\n",
       "      <td>0</td>\n",
       "      <td>1</td>\n",
       "      <td>True</td>\n",
       "      <td>False</td>\n",
       "      <td>True</td>\n",
       "      <td>False</td>\n",
       "    </tr>\n",
       "    <tr>\n",
       "      <th>3372</th>\n",
       "      <td>2</td>\n",
       "      <td>3</td>\n",
       "      <td>2</td>\n",
       "      <td>0</td>\n",
       "      <td>129000</td>\n",
       "      <td>0</td>\n",
       "      <td>1</td>\n",
       "      <td>True</td>\n",
       "      <td>False</td>\n",
       "      <td>True</td>\n",
       "      <td>False</td>\n",
       "    </tr>\n",
       "  </tbody>\n",
       "</table>\n",
       "</div>"
      ],
      "text/plain": [
       "      work_year  experience_level  employment_type  job_title  salary_in_usd  \\\n",
       "246           3                 3                2          2         134236   \n",
       "2647          2                 2                2          1          98000   \n",
       "3155          2                 2                2          3         200000   \n",
       "53            3                 3                2          2         199098   \n",
       "2047          2                 3                2          2          37824   \n",
       "1310          3                 3                2          2         148750   \n",
       "143           3                 3                2          0         204500   \n",
       "1197          3                 0                2          0          75000   \n",
       "1362          3                 3                2          3         163800   \n",
       "3372          2                 3                2          0         129000   \n",
       "\n",
       "      remote_ratio  company_size  employee_residence_US  \\\n",
       "246              0             1                   True   \n",
       "2647             0             1                   True   \n",
       "3155             2             0                  False   \n",
       "53               2             1                   True   \n",
       "2047             0             1                  False   \n",
       "1310             0             1                   True   \n",
       "143              0             1                   True   \n",
       "1197             2             1                   True   \n",
       "1362             0             1                   True   \n",
       "3372             0             1                   True   \n",
       "\n",
       "      employee_residence_other_countries  company_location_US  \\\n",
       "246                                False                 True   \n",
       "2647                               False                 True   \n",
       "3155                                True                 True   \n",
       "53                                 False                 True   \n",
       "2047                                True                False   \n",
       "1310                               False                 True   \n",
       "143                                False                 True   \n",
       "1197                               False                 True   \n",
       "1362                               False                 True   \n",
       "3372                               False                 True   \n",
       "\n",
       "      company_location_other_countries  \n",
       "246                              False  \n",
       "2647                             False  \n",
       "3155                             False  \n",
       "53                               False  \n",
       "2047                              True  \n",
       "1310                             False  \n",
       "143                              False  \n",
       "1197                             False  \n",
       "1362                             False  \n",
       "3372                             False  "
      ]
     },
     "execution_count": 53,
     "metadata": {},
     "output_type": "execute_result"
    }
   ],
   "source": [
    "df.sample(10)"
   ]
  },
  {
   "cell_type": "code",
   "execution_count": 54,
   "id": "090be8c8-607b-4979-bc30-dee093141be2",
   "metadata": {},
   "outputs": [
    {
     "data": {
      "text/plain": [
       "salary_in_usd                         1.000000\n",
       "employee_residence_US                 0.483816\n",
       "company_location_US                   0.466103\n",
       "experience_level                      0.327173\n",
       "work_year                             0.228290\n",
       "job_title                             0.173724\n",
       "company_size                         -0.000372\n",
       "employment_type                      -0.010329\n",
       "remote_ratio                         -0.064171\n",
       "company_location_other_countries     -0.466103\n",
       "employee_residence_other_countries   -0.483816\n",
       "Name: salary_in_usd, dtype: float64"
      ]
     },
     "execution_count": 54,
     "metadata": {},
     "output_type": "execute_result"
    }
   ],
   "source": [
    "df.corr()['salary_in_usd'].sort_values(ascending = False)"
   ]
  },
  {
   "cell_type": "code",
   "execution_count": 55,
   "id": "8d2c2921-f8e7-4922-9489-fa3355a43330",
   "metadata": {},
   "outputs": [],
   "source": [
    "# ((df.shape[0] - 1502) /3755) * 100\n",
    "# # 2253 + 1502"
   ]
  },
  {
   "cell_type": "code",
   "execution_count": 56,
   "id": "ec0c6868-e221-4387-b6dc-378fe2dd84c4",
   "metadata": {},
   "outputs": [],
   "source": [
    "X = df.drop('salary_in_usd', axis = 1)\n",
    "y = df['salary_in_usd'].copy()"
   ]
  },
  {
   "cell_type": "code",
   "execution_count": 57,
   "id": "167489c8-27c2-406d-99dd-675962ed570f",
   "metadata": {},
   "outputs": [],
   "source": [
    "scaler = MinMaxScaler()"
   ]
  },
  {
   "cell_type": "code",
   "execution_count": null,
   "id": "d2b52e04-3deb-4487-a36e-392e1146e28c",
   "metadata": {},
   "outputs": [],
   "source": []
  },
  {
   "cell_type": "code",
   "execution_count": 58,
   "id": "0accdd5f-3308-4fbb-ba9d-a900916a207e",
   "metadata": {},
   "outputs": [],
   "source": [
    "X_train, X_test, y_train, y_test = train_test_split(X,y, test_size = 0.15, random_state = 42)\n",
    "# X_train, X_val, y_train, y_val = train_test_split(X_train, y_train, test_size = 0.15, random_state = 42) "
   ]
  },
  {
   "cell_type": "code",
   "execution_count": 59,
   "id": "5c19de17-8c76-4869-a356-aa7fde5e82e8",
   "metadata": {},
   "outputs": [],
   "source": [
    "scaler.fit(X_train)\n",
    "X_train = scaler.transform(X_train)\n",
    "X_test = scaler.transform(X_test)"
   ]
  },
  {
   "cell_type": "markdown",
   "id": "7d3fc58a-058e-4304-9ce7-2ab5ada1180a",
   "metadata": {},
   "source": [
    "## Model Testing"
   ]
  },
  {
   "cell_type": "code",
   "execution_count": 66,
   "id": "de416575-3f1f-4e46-9736-a17ff436c788",
   "metadata": {},
   "outputs": [],
   "source": [
    "lr = LinearRegression()\n",
    "tree = DecisionTreeRegressor()\n",
    "forest = RandomForestRegressor()"
   ]
  },
  {
   "cell_type": "code",
   "execution_count": 61,
   "id": "c12706f8-fbca-4d1b-a04a-0de0f6c26d18",
   "metadata": {},
   "outputs": [],
   "source": [
    "def get_scores(y_pred, y_test):\n",
    "    mae = mean_absolute_error(y_test, y_pred)\n",
    "    mse = mean_squared_error(y_test, y_pred)\n",
    "    r2 = r2_score(y_test, y_pred)\n",
    "    return {\n",
    "        'mae': mae,\n",
    "        'mse': mse,\n",
    "        'r2': r2\n",
    "    }"
   ]
  },
  {
   "cell_type": "code",
   "execution_count": 62,
   "id": "8e7de2d2-f35d-4634-9ebc-a9e67c1fc8da",
   "metadata": {},
   "outputs": [
    {
     "name": "stdout",
     "output_type": "stream",
     "text": [
      "{'mae': 39546.20921985816, 'mse': 2663031036.2978725, 'r2': 0.3265984690748106}\n"
     ]
    }
   ],
   "source": [
    "lr.fit(X_train, y_train)\n",
    "lr_pred = lr.predict(X_test)\n",
    "print(get_scores(lr_pred, y_test))"
   ]
  },
  {
   "cell_type": "code",
   "execution_count": 63,
   "id": "270d8395-b0d4-4981-b492-b881bcdb6787",
   "metadata": {},
   "outputs": [
    {
     "name": "stdout",
     "output_type": "stream",
     "text": [
      "{'mae': 39448.753439017695, 'mse': 2803807427.854024, 'r2': 0.29100029680422934}\n"
     ]
    }
   ],
   "source": [
    "tree.fit(X_train, y_train)\n",
    "tree_pred = tree.predict(X_test)\n",
    "print(get_scores(tree_pred, y_test))"
   ]
  },
  {
   "cell_type": "code",
   "execution_count": 64,
   "id": "2121ddf3-9ca6-486b-bb03-33e189516f12",
   "metadata": {},
   "outputs": [
    {
     "name": "stdout",
     "output_type": "stream",
     "text": [
      "{'mae': 39156.74511202372, 'mse': 2666486930.0578656, 'r2': 0.3257245760870934}\n"
     ]
    }
   ],
   "source": [
    "forest.fit(X_train, y_train)\n",
    "forest_pred = forest.predict(X_test)\n",
    "print(get_scores(forest_pred, y_test))"
   ]
  },
  {
   "cell_type": "code",
   "execution_count": 65,
   "id": "2781f2ea-606f-4828-91d2-a7072db176bb",
   "metadata": {},
   "outputs": [],
   "source": []
  },
  {
   "cell_type": "code",
   "execution_count": 68,
   "id": "ed4c3fd9-dacf-4421-b15e-dc813f12d502",
   "metadata": {},
   "outputs": [],
   "source": []
  },
  {
   "cell_type": "code",
   "execution_count": 70,
   "id": "7add1b9f-f41b-4784-b7ab-688d96c529dc",
   "metadata": {},
   "outputs": [
    {
     "data": {
      "text/plain": [
       "51311.49701376157"
      ]
     },
     "execution_count": 70,
     "metadata": {},
     "output_type": "execute_result"
    }
   ],
   "source": []
  },
  {
   "cell_type": "code",
   "execution_count": null,
   "id": "20ac1692-1237-44cb-9a3a-e207096b3ac0",
   "metadata": {},
   "outputs": [],
   "source": []
  }
 ],
 "metadata": {
  "kernelspec": {
   "display_name": "Python 3 (ipykernel)",
   "language": "python",
   "name": "python3"
  },
  "language_info": {
   "codemirror_mode": {
    "name": "ipython",
    "version": 3
   },
   "file_extension": ".py",
   "mimetype": "text/x-python",
   "name": "python",
   "nbconvert_exporter": "python",
   "pygments_lexer": "ipython3",
   "version": "3.10.6"
  }
 },
 "nbformat": 4,
 "nbformat_minor": 5
}
